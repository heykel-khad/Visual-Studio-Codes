{
  "cells": [
    {
      "cell_type": "markdown",
      "metadata": {},
      "source": [
        "## Zuerst importieren wir alle notwendigen Bibliotheken.\n",
        "tensorflow: Wir verwenden TensorFlow und das Keras-API für das neuronale Netz.\n",
        "mnist: Enthält den Datensatz der handgeschriebenen Ziffern.\n",
        "matplotlib.pyplot: Zum Plotten von Bildern und Daten."
      ]
    },
    {
      "cell_type": "code",
      "execution_count": null,
      "metadata": {
        "trusted": true
      },
      "outputs": [],
      "source": [
        "\n",
        "import tensorflow as tf\n",
        "from tensorflow.keras import layers, models\n",
        "from tensorflow.keras.datasets import mnist\n",
        "import matplotlib.pyplot as plt\n"
      ]
    },
    {
      "cell_type": "markdown",
      "metadata": {},
      "source": [
        "#### Laden des MNIST-Datensatzes\n",
        "X_train: Bilder für das Training (28x28 Pixel-Bilder).\n",
        "y_train: Ziffern-Labels für jedes Trainingsbild (0 bis 9).\n",
        "X_test und y_test: Testdaten, um das Modell zu evaluieren."
      ]
    },
    {
      "cell_type": "code",
      "execution_count": null,
      "metadata": {
        "trusted": true
      },
      "outputs": [],
      "source": [
        "\n",
        "(X_train, y_train), (X_test, y_test) = mnist.load_data()\n"
      ]
    },
    {
      "cell_type": "markdown",
      "metadata": {},
      "source": [
        "## Ein Bild aus dem Datensatz visualisieren\n",
        "Dies zeigt eines der handgeschriebenen Ziffernbilder und sein zugehöriges Label (die Ziffer)."
      ]
    },
    {
      "cell_type": "code",
      "execution_count": null,
      "metadata": {
        "trusted": true
      },
      "outputs": [],
      "source": [
        "plt.imshow(X_train[0], cmap='gray')\n",
        "plt.title(f\"Label: {y_train[0]}\")\n",
        "plt.show()"
      ]
    },
    {
      "cell_type": "markdown",
      "metadata": {},
      "source": [
        "## Normalisierung der Daten\n",
        "Die Pixelwerte jedes Bildes liegen zwischen 0 und 255. Um die Berechnungen effizienter zu machen, normalisieren wir diese Werte auf den Bereich 0 bis 1."
      ]
    },
    {
      "cell_type": "code",
      "execution_count": null,
      "metadata": {
        "trusted": true
      },
      "outputs": [],
      "source": [
        "X_train = X_train / 255.0\n",
        "X_test = X_test / 255.0"
      ]
    },
    {
      "cell_type": "markdown",
      "metadata": {},
      "source": [
        "## Neural Network aufbauen\n",
        "Hier erstellen wir ein neuronales Netz mit Sequential(), das Schichten aufeinander stapelt:\n",
        "\n",
        "layers.Flatten():\n",
        "\n",
        "Wandelt das 28x28 Pixel-Bild in ein 1D-Array mit 784 Werten um. Dies ist der Eingangsvektor für das Netz.\n",
        "Grafik: Vorstellung eines „flachen“ Arrays für die Eingaben.\n"
      ]
    },
    {
      "cell_type": "code",
      "execution_count": null,
      "metadata": {
        "trusted": true
      },
      "outputs": [],
      "source": [
        "plt.imshow(X_train[0], cmap='gray')\n",
        "plt.title(f\"Flach: {X_train[0].flatten()[:20]}\")\n",
        "plt.show()\n"
      ]
    },
    {
      "cell_type": "markdown",
      "metadata": {},
      "source": [
        "## "
      ]
    }
  ],
  "metadata": {
    "kernelspec": {
      "display_name": "Python 3",
      "language": "python",
      "name": "python3"
    },
    "language_info": {
      "name": "python",
      "version": "3.11.9"
    }
  },
  "nbformat": 4,
  "nbformat_minor": 4
}
